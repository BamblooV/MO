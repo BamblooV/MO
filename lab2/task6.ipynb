{
 "cells": [
  {
   "cell_type": "code",
   "execution_count": 192,
   "metadata": {},
   "outputs": [],
   "source": [
    "import numpy as np\n",
    "import numpy.linalg as LA\n",
    "from math import *\n",
    "N = 0\n",
    "accuracy = [1e-3, 1e-5, 1e-9]\n",
    "koeffs = [1, 100, 250]\n",
    "startPoint = [np.array([0, 0]), np.array([-5, 0])]\n",
    "A = np.array([[-42, 0], [0, -26]], dtype=np.int64)\n"
   ]
  },
  {
   "cell_type": "code",
   "execution_count": 181,
   "metadata": {},
   "outputs": [],
   "source": [
    "import sympy\n",
    "x = sympy.Symbol('x')\n",
    "y = sympy.Symbol('y')\n",
    "eq = (x**2+y-11)**2 + (x + y**2 - 7)**2"
   ]
  },
  {
   "cell_type": "code",
   "execution_count": 193,
   "metadata": {},
   "outputs": [],
   "source": [
    "import pandas as pd\n",
    "results = pd.DataFrame(columns=['title', 'SP', *[f'EPS={i}' for i in accuracy]])"
   ]
  },
  {
   "cell_type": "code",
   "execution_count": 194,
   "metadata": {},
   "outputs": [
    {
     "data": {
      "text/html": [
       "<div>\n",
       "<style scoped>\n",
       "    .dataframe tbody tr th:only-of-type {\n",
       "        vertical-align: middle;\n",
       "    }\n",
       "\n",
       "    .dataframe tbody tr th {\n",
       "        vertical-align: top;\n",
       "    }\n",
       "\n",
       "    .dataframe thead th {\n",
       "        text-align: right;\n",
       "    }\n",
       "</style>\n",
       "<table border=\"1\" class=\"dataframe\">\n",
       "  <thead>\n",
       "    <tr style=\"text-align: right;\">\n",
       "      <th></th>\n",
       "      <th>title</th>\n",
       "      <th>SP</th>\n",
       "      <th>EPS=0.001</th>\n",
       "      <th>EPS=1e-05</th>\n",
       "      <th>EPS=1e-09</th>\n",
       "    </tr>\n",
       "  </thead>\n",
       "  <tbody>\n",
       "  </tbody>\n",
       "</table>\n",
       "</div>"
      ],
      "text/plain": [
       "Empty DataFrame\n",
       "Columns: [title, SP, EPS=0.001, EPS=1e-05, EPS=1e-09]\n",
       "Index: []"
      ]
     },
     "execution_count": 194,
     "metadata": {},
     "output_type": "execute_result"
    }
   ],
   "source": [
    "results"
   ]
  },
  {
   "cell_type": "code",
   "execution_count": 209,
   "metadata": {},
   "outputs": [],
   "source": [
    "def func(x, a):\n",
    "    global N\n",
    "    N += 1\n",
    "    return (x[0] * x[0] + x[1] - 11) ** 2 + (x[0] + x[1] * x[1] - 7) ** 2\n",
    "\n",
    "\n",
    "def fD0(x, a):\n",
    "    global N\n",
    "    N += 1\n",
    "    return -2*(2*x[0]*(x[0]**2+x[1]-11)+x[0]+x[1]**2-7)\n",
    "\n",
    "\n",
    "def fD1(x, a):\n",
    "    global N\n",
    "    N += 1\n",
    "    return -2*(x[0]**2+2*x[1]*(x[0]+x[1]**2-7)+x[1]-11)\n",
    "\n",
    "\n",
    "def gradient(x, a):\n",
    "    return np.array([fD0(x, a), fD1(x, a)])\n",
    "\n",
    "# def gradient(arg, a):\n",
    "#     global N\n",
    "#     N += 2\n",
    "#     return np.array([int(sympy.diff(eq,x).subs([(x,arg[0]), (y, arg[1])])), int(sympy.diff(eq,y).subs([(x,arg[0]), (y, arg[1])]))])\n"
   ]
  },
  {
   "cell_type": "code",
   "execution_count": 206,
   "metadata": {},
   "outputs": [],
   "source": [
    "def gradientDescent(startPoint, epsilon, koeff, A):\n",
    "\n",
    "    point = np.array(startPoint)\n",
    "    grad = gradient(point, koeff)\n",
    "    \n",
    "\n",
    "    while (LA.norm(grad) >= epsilon):\n",
    "        print(point)\n",
    "        alpha_k = - np.dot(grad, -grad)/np.dot(A @ -grad, -grad)\n",
    "        point = point - alpha_k * grad/2\n",
    "\n",
    "        grad = gradient(point, koeff)\n",
    "\n",
    "    return (point, func(point, koeff))\n",
    "\n"
   ]
  },
  {
   "cell_type": "code",
   "execution_count": null,
   "metadata": {},
   "outputs": [],
   "source": [
    "for sp in startPoint:\n",
    "    N_EPS = []\n",
    "    for eps in accuracy:\n",
    "        gradientDescent(sp, eps, 1, A)\n",
    "        N_EPS.append(N)\n",
    "        N = 0\n",
    "    results = pd.concat([results, pd.Series({\"title\":\"gradientDescent\" , 'SP': sp, \"EPS=0.001\":N_EPS[0],\"EPS=1e-05\":N_EPS[1],\"EPS=1e-09\":N_EPS[2]}).to_frame().T], ignore_index=True)\n"
   ]
  },
  {
   "cell_type": "code",
   "execution_count": 210,
   "metadata": {},
   "outputs": [
    {
     "name": "stdout",
     "output_type": "stream",
     "text": [
      "[0 0]\n",
      "[0.22867025 0.35933897]\n",
      "[0.59054749 0.84338746]\n",
      "[1.11311834 1.43058178]\n",
      "[1.74960884 1.97985258]\n",
      "[2.32225285 2.26969747]\n",
      "[2.6808854  2.29802083]\n",
      "[2.86107605 2.22490245]\n",
      "[2.93941573 2.1325039 ]\n",
      "[2.96892423 2.06824936]\n",
      "[2.98433125 2.03731212]\n",
      "(array([2.99146971, 2.01987116]), 0.006066509179158906)\n",
      "[-5  0]\n",
      "[-1.36931758 -0.33440496]\n",
      "[-1.7972417  -0.23895084]\n",
      "[-2.28106249 -0.14647232]\n",
      "[-2.7113579  -0.06861113]\n",
      "[-2.96496034 -0.01072933]\n",
      "[-3.05028096  0.04278644]\n",
      "[-3.0516568  0.1394234]\n",
      "[-3.02941969  0.30474698]\n",
      "[-3.00112196  0.59437458]\n",
      "[-2.95326909  1.08645135]\n",
      "[-2.88688265  1.86199485]\n",
      "[-2.81870461  2.80942963]\n",
      "[-2.79789032  3.23443185]\n",
      "[-2.80989997  3.06743205]\n",
      "[-2.80251693  3.16306961]\n",
      "[-2.80658679  3.11334377]\n",
      "(array([-2.80432389,  3.14082836]), 0.0036833078904603706)\n"
     ]
    }
   ],
   "source": [
    "print(gradientDescent(np.array([0, 0]), 1, 1e-3, A))\n",
    "print(gradientDescent(np.array([-5, 0]), 1, 1e-3, A))"
   ]
  },
  {
   "cell_type": "code",
   "execution_count": 199,
   "metadata": {},
   "outputs": [
    {
     "data": {
      "text/html": [
       "<div>\n",
       "<style scoped>\n",
       "    .dataframe tbody tr th:only-of-type {\n",
       "        vertical-align: middle;\n",
       "    }\n",
       "\n",
       "    .dataframe tbody tr th {\n",
       "        vertical-align: top;\n",
       "    }\n",
       "\n",
       "    .dataframe thead th {\n",
       "        text-align: right;\n",
       "    }\n",
       "</style>\n",
       "<table border=\"1\" class=\"dataframe\">\n",
       "  <thead>\n",
       "    <tr style=\"text-align: right;\">\n",
       "      <th></th>\n",
       "      <th>title</th>\n",
       "      <th>SP</th>\n",
       "      <th>EPS=0.001</th>\n",
       "      <th>EPS=1e-05</th>\n",
       "      <th>EPS=1e-09</th>\n",
       "    </tr>\n",
       "  </thead>\n",
       "  <tbody>\n",
       "    <tr>\n",
       "      <th>0</th>\n",
       "      <td>gradientDescent</td>\n",
       "      <td>[0, 0]</td>\n",
       "      <td>47</td>\n",
       "      <td>63</td>\n",
       "      <td>93</td>\n",
       "    </tr>\n",
       "    <tr>\n",
       "      <th>1</th>\n",
       "      <td>gradientDescent</td>\n",
       "      <td>[-5, 0]</td>\n",
       "      <td>59</td>\n",
       "      <td>75</td>\n",
       "      <td>105</td>\n",
       "    </tr>\n",
       "  </tbody>\n",
       "</table>\n",
       "</div>"
      ],
      "text/plain": [
       "             title       SP EPS=0.001 EPS=1e-05 EPS=1e-09\n",
       "0  gradientDescent   [0, 0]        47        63        93\n",
       "1  gradientDescent  [-5, 0]        59        75       105"
      ]
     },
     "execution_count": 199,
     "metadata": {},
     "output_type": "execute_result"
    }
   ],
   "source": [
    "results"
   ]
  },
  {
   "cell_type": "code",
   "execution_count": 200,
   "metadata": {},
   "outputs": [],
   "source": [
    "def conjugateGradientMethod(startPoint, epsilon, koeff, A):\n",
    "    point = np.array(startPoint, dtype=np.int64)\n",
    "    grad = gradient(point, koeff)\n",
    "    p_k = -grad\n",
    "    k = 0\n",
    "\n",
    "    while (LA.norm(grad) >= epsilon):\n",
    "        alpha_k = - np.dot(grad, p_k)/np.dot(A @ p_k, p_k)\n",
    "        point = point + alpha_k * p_k\n",
    "        Ngrad = gradient(point, koeff)\n",
    "\n",
    "        if (k + 1 == point.size):\n",
    "            betta_k=0\n",
    "        else:\n",
    "            betta_k = LA.norm(Ngrad)**2/LA.norm(grad)**2\n",
    "        p_k = -Ngrad + np.dot(betta_k, p_k)\n",
    "\n",
    "        grad = Ngrad\n",
    "\n",
    "    return (point, func(point, koeff))\n"
   ]
  },
  {
   "cell_type": "code",
   "execution_count": 201,
   "metadata": {},
   "outputs": [
    {
     "name": "stdout",
     "output_type": "stream",
     "text": [
      "(array([3.01389232, 1.99016985]), 0.006075852917306318)\n",
      "(array([ 3.5886631 , -1.84772621]), 0.0009547935930748398)\n"
     ]
    }
   ],
   "source": [
    "print(conjugateGradientMethod(np.array([0, 0]), 1, 1e-6, A))\n",
    "print(conjugateGradientMethod(np.array([-5, 0]), 1, 1e-6, A))"
   ]
  },
  {
   "cell_type": "code",
   "execution_count": 202,
   "metadata": {},
   "outputs": [
    {
     "name": "stderr",
     "output_type": "stream",
     "text": [
      "C:\\Users\\Bambloo\\AppData\\Local\\Temp/ipykernel_139912/945911776.py:8: RuntimeWarning: invalid value encountered in double_scalars\n",
      "  alpha_k = - np.dot(grad, p_k)/np.dot(A @ p_k, p_k)\n"
     ]
    }
   ],
   "source": [
    "for sp in startPoint:\n",
    "    N_EPS = []\n",
    "    for eps in accuracy:\n",
    "        conjugateGradientMethod(sp, eps, 1, A)\n",
    "        N_EPS.append(N)\n",
    "        N = 0\n",
    "    results = pd.concat([results, pd.Series({\"title\":\"conjugateGradientMethod\", \"SP\": sp, \"EPS=0.001\":N_EPS[0],\"EPS=1e-05\":N_EPS[1],\"EPS=1e-09\":N_EPS[2]}).to_frame().T], ignore_index=True)"
   ]
  },
  {
   "cell_type": "code",
   "execution_count": 203,
   "metadata": {},
   "outputs": [
    {
     "data": {
      "text/html": [
       "<div>\n",
       "<style scoped>\n",
       "    .dataframe tbody tr th:only-of-type {\n",
       "        vertical-align: middle;\n",
       "    }\n",
       "\n",
       "    .dataframe tbody tr th {\n",
       "        vertical-align: top;\n",
       "    }\n",
       "\n",
       "    .dataframe thead th {\n",
       "        text-align: right;\n",
       "    }\n",
       "</style>\n",
       "<table border=\"1\" class=\"dataframe\">\n",
       "  <thead>\n",
       "    <tr style=\"text-align: right;\">\n",
       "      <th></th>\n",
       "      <th>title</th>\n",
       "      <th>SP</th>\n",
       "      <th>EPS=0.001</th>\n",
       "      <th>EPS=1e-05</th>\n",
       "      <th>EPS=1e-09</th>\n",
       "    </tr>\n",
       "  </thead>\n",
       "  <tbody>\n",
       "    <tr>\n",
       "      <th>0</th>\n",
       "      <td>gradientDescent</td>\n",
       "      <td>[0, 0]</td>\n",
       "      <td>47</td>\n",
       "      <td>63</td>\n",
       "      <td>93</td>\n",
       "    </tr>\n",
       "    <tr>\n",
       "      <th>1</th>\n",
       "      <td>gradientDescent</td>\n",
       "      <td>[-5, 0]</td>\n",
       "      <td>59</td>\n",
       "      <td>75</td>\n",
       "      <td>105</td>\n",
       "    </tr>\n",
       "    <tr>\n",
       "      <th>2</th>\n",
       "      <td>conjugateGradientMethod</td>\n",
       "      <td>[0, 0]</td>\n",
       "      <td>281</td>\n",
       "      <td>161</td>\n",
       "      <td>207</td>\n",
       "    </tr>\n",
       "    <tr>\n",
       "      <th>3</th>\n",
       "      <td>conjugateGradientMethod</td>\n",
       "      <td>[-5, 0]</td>\n",
       "      <td>1459</td>\n",
       "      <td>1459</td>\n",
       "      <td>1459</td>\n",
       "    </tr>\n",
       "  </tbody>\n",
       "</table>\n",
       "</div>"
      ],
      "text/plain": [
       "                     title       SP EPS=0.001 EPS=1e-05 EPS=1e-09\n",
       "0          gradientDescent   [0, 0]        47        63        93\n",
       "1          gradientDescent  [-5, 0]        59        75       105\n",
       "2  conjugateGradientMethod   [0, 0]       281       161       207\n",
       "3  conjugateGradientMethod  [-5, 0]      1459      1459      1459"
      ]
     },
     "execution_count": 203,
     "metadata": {},
     "output_type": "execute_result"
    }
   ],
   "source": [
    "results"
   ]
  }
 ],
 "metadata": {
  "kernelspec": {
   "display_name": "Python 3.8.12 ('base')",
   "language": "python",
   "name": "python3"
  },
  "language_info": {
   "codemirror_mode": {
    "name": "ipython",
    "version": 3
   },
   "file_extension": ".py",
   "mimetype": "text/x-python",
   "name": "python",
   "nbconvert_exporter": "python",
   "pygments_lexer": "ipython3",
   "version": "3.8.12"
  },
  "orig_nbformat": 4,
  "vscode": {
   "interpreter": {
    "hash": "6f5583cf1d9466b5c27e75c89cc6b383bed5736d6b16c51c8074d8690011a952"
   }
  }
 },
 "nbformat": 4,
 "nbformat_minor": 2
}
