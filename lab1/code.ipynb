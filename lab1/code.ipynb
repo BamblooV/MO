{
 "cells": [
  {
   "cell_type": "code",
   "execution_count": 183,
   "metadata": {},
   "outputs": [],
   "source": [
    "import math\n",
    "N = 0\n",
    "START = 0.1\n",
    "STOP = 1\n",
    "EPS = 0.01\n",
    "def function(x):\n",
    "  global N\n",
    "  N += 1\n",
    "  return 10*x*math.log(x) - (x**2 / 2)"
   ]
  },
  {
   "cell_type": "code",
   "execution_count": 184,
   "metadata": {},
   "outputs": [],
   "source": [
    "import numpy as np\n",
    "import pandas as pd"
   ]
  },
  {
   "cell_type": "code",
   "execution_count": 185,
   "metadata": {},
   "outputs": [],
   "source": [
    "df = pd.DataFrame(columns=[\"name\",\"minArg\", \"minFunction\", \"N\"])"
   ]
  },
  {
   "cell_type": "code",
   "execution_count": 186,
   "metadata": {},
   "outputs": [],
   "source": [
    "#Перебор\n",
    "def perebor(start, stop, epsilon):\n",
    "  numberOfSteps = int((stop-start)/epsilon)\n",
    "  minF = function(start)\n",
    "  minArg = start\n",
    "  for val in np.linspace(start, stop, num=numberOfSteps):\n",
    "    eval = function(val)\n",
    "    if (minF > eval):\n",
    "      minF = eval\n",
    "      minArg = val\n",
    "  return (minF, minArg)"
   ]
  },
  {
   "cell_type": "code",
   "execution_count": 187,
   "metadata": {},
   "outputs": [
    {
     "name": "stdout",
     "output_type": "stream",
     "text": [
      "-3.749070050397621 0.3831460674157303 91\n"
     ]
    }
   ],
   "source": [
    "(minF, minArg) = perebor(START, STOP, EPS)\n",
    "print(minF, minArg, N)\n",
    "df = pd.concat([df, pd.Series({\"name\": 'Перебор',\"minArg\": minArg, \"minFunction\": minF, \"N\": N}).to_frame().T], ignore_index=True)\n",
    "N = 0"
   ]
  },
  {
   "cell_type": "code",
   "execution_count": 188,
   "metadata": {},
   "outputs": [],
   "source": [
    "# Поразрядный поиск\n",
    "def porPoisk(start, stop, epsilon):\n",
    "  step = (stop - start)/4\n",
    "  if step < epsilon:\n",
    "    print(f'step > epsilon, step={step} epsilon={epsilon}')\n",
    "  minArg = val = start\n",
    "  fNext = function(minArg)\n",
    "  minF = 0\n",
    "  while abs(step) > epsilon:\n",
    "    val += step\n",
    "    f = fNext\n",
    "    fNext = function(val)\n",
    "\n",
    "    if fNext > f:\n",
    "      minF = f;\n",
    "      minArg = val\n",
    "      step /= -4\n",
    "      print('change direction')\n",
    "  return (minF, minArg)\n",
    "  "
   ]
  },
  {
   "cell_type": "code",
   "execution_count": 189,
   "metadata": {},
   "outputs": [
    {
     "name": "stdout",
     "output_type": "stream",
     "text": [
      "change direction\n",
      "change direction\n",
      "change direction\n",
      "-3.749069344668216 0.39531249999999984 12\n"
     ]
    }
   ],
   "source": [
    "(minF, minArg) = porPoisk(START, STOP, EPS)\n",
    "print(minF, minArg, N)\n",
    "df = pd.concat([df, pd.Series({\"name\": 'Поразрядный поиск',\"minArg\": minArg, \"minFunction\": minF, \"N\": N}).to_frame().T], ignore_index=True)\n",
    "N = 0"
   ]
  },
  {
   "cell_type": "code",
   "execution_count": 190,
   "metadata": {},
   "outputs": [],
   "source": [
    "# Дихотомия\n",
    "def dihotomia(start, stop, epsilon, delta):\n",
    "  if (0 > delta) or (delta > 2 * epsilon):\n",
    "    print('invalid q')\n",
    "    return 0\n",
    "  leftPoint = (start + stop - delta) / 2\n",
    "  rightPoint = (start + stop + delta) / 2\n",
    "  while (stop - start)/2 > epsilon:\n",
    "\n",
    "    if function(leftPoint) < function(rightPoint):\n",
    "      stop = rightPoint\n",
    "    else:\n",
    "      start = leftPoint\n",
    "    leftPoint = (start + stop - delta) / 2\n",
    "    rightPoint = (start + stop + delta) / 2\n",
    "  minArg = (start + stop) / 2\n",
    "  minF = function(minArg)\n",
    "  return (minF, minArg)"
   ]
  },
  {
   "cell_type": "code",
   "execution_count": 191,
   "metadata": {},
   "outputs": [
    {
     "name": "stdout",
     "output_type": "stream",
     "text": [
      "-3.748998103482821 0.37964843750000005 15\n"
     ]
    }
   ],
   "source": [
    "(minF, minArg) = dihotomia(START, STOP, EPS, EPS)\n",
    "print(minF, minArg, N)\n",
    "df = pd.concat([df, pd.Series({\"name\": 'Дихотомия',\"minArg\": minArg, \"minFunction\": minF, \"N\": N}).to_frame().T], ignore_index=True)\n",
    "N = 0"
   ]
  },
  {
   "cell_type": "code",
   "execution_count": 192,
   "metadata": {},
   "outputs": [],
   "source": [
    "# Золотое сечение\n",
    "from math import sqrt\n",
    "\n",
    "\n",
    "def golden(start, stop, epsilon):\n",
    "  tau = (sqrt(5) - 1) / 2\n",
    "  leftPoint = start + (1 - tau)*(stop - start)\n",
    "  rightPoint = start + tau*(stop - start)\n",
    "  leftF = function(leftPoint)\n",
    "  rightF = function(rightPoint)\n",
    "  while abs(stop - start) > epsilon:\n",
    "    if leftF >= rightF:\n",
    "      start = leftPoint\n",
    "      leftPoint = rightPoint\n",
    "      leftF = rightF\n",
    "      rightPoint = start + tau*(stop - start)\n",
    "      rightF = function(rightPoint)\n",
    "    else:\n",
    "      stop = rightPoint\n",
    "      rightPoint = leftPoint\n",
    "      rightF = leftF\n",
    "      leftPoint = start + (1 - tau)*(stop - start)\n",
    "      leftF = function(leftPoint)\n",
    "  minArg = (start + stop) / 2\n",
    "  minF = function(minArg)\n",
    "  return (minF, minArg)\n",
    "    "
   ]
  },
  {
   "cell_type": "code",
   "execution_count": 193,
   "metadata": {},
   "outputs": [
    {
     "name": "stdout",
     "output_type": "stream",
     "text": [
      "-3.7490787329225768 0.38263779380403007 13\n"
     ]
    }
   ],
   "source": [
    "(minF, minArg) = golden(START, STOP, EPS)\n",
    "print(minF, minArg, N)\n",
    "df = pd.concat([df, pd.Series({\"name\": 'Золотое сечение',\"minArg\": minArg, \"minFunction\": minF, \"N\": N}).to_frame().T], ignore_index=True)\n",
    "N = 0"
   ]
  },
  {
   "cell_type": "code",
   "execution_count": 194,
   "metadata": {},
   "outputs": [],
   "source": [
    "def parabola(start, stop, epsilon):\n",
    "  (x1, x2, x3, f1, f2, f3) = goldPoints(start, stop)\n",
    "\n",
    "  a1 = (f2 - f1)/(x2 - x1)\n",
    "  a2 = 1/(x3 - x2) * ((f3 - f1)/(x3 - x1) - (f2 - f1)/(x2 - x1))\n",
    "  newX = (x1 + x2 - a1/a2)/2\n",
    "\n",
    "  if (x1<newX<x2<x3):\n",
    "    x1 = newX\n",
    "    f1 = function(newX)\n",
    "  \n",
    "  if ((x1<x2<newX<x3)):\n",
    "    x3 = newX\n",
    "    f3 = function(newX)\n",
    "\n",
    "  oldX = newX\n",
    "\n",
    "  a1 = (f2 - f1)/(x2 - x1)\n",
    "  a2 = 1/(x3 - x2) * ((f3 - f1)/(x3 - x1) - (f2 - f1)/(x2 - x1))\n",
    "  newX = (x1 + x2 - a1/a2)/2\n",
    "\n",
    "  while abs(oldX - newX) < epsilon:\n",
    "\n",
    "    if (x1<newX<x2<x3):\n",
    "      x1 = newX\n",
    "      f1 = function(newX)\n",
    "  \n",
    "    if ((x1<x2<newX<x3)):\n",
    "      x3 = newX\n",
    "      f3 = function(newX)\n",
    "\n",
    "    oldX = newX\n",
    "\n",
    "    a1 = (f2 - f1)/(x2 - x1)\n",
    "    a2 = 1/(x3 - x2) * ((f3 - f1)/(x3 - x1) - (f2 - f1)/(x2 - x1))\n",
    "    newX = (x1 + x2 - a1/a2)/2\n",
    "  \n",
    "  minArg = newX\n",
    "  minF = function(newX)\n",
    "  return (minF, minArg)\n",
    "\n",
    "def goldPoints(start, stop):\n",
    "  tau = (sqrt(5) - 1) / 2\n",
    "  leftPoint = start + (1 - tau)*(stop - start)\n",
    "  rightPoint = start + tau*(stop - start)\n",
    "  leftF = function(leftPoint)\n",
    "  rightF = function(rightPoint)\n",
    "  startF = function(start)\n",
    "  stopF = function(stop)\n",
    "  while True:\n",
    "\n",
    "    if (startF >= leftF < stopF) or (startF > leftF <= stopF):\n",
    "      return (start, leftPoint, stop, startF, leftF, stopF)\n",
    "\n",
    "    if (leftF >= rightF < stopF) or (leftF > rightF <= stopF):\n",
    "      return (leftPoint, rightPoint, stop, leftF, rightF, stopF)\n",
    "\n",
    "    if leftF >= rightF:\n",
    "      start = leftPoint\n",
    "      leftPoint = rightPoint\n",
    "      startF = leftF\n",
    "      leftF = rightF\n",
    "      rightPoint = start + tau*(stop - start)\n",
    "      rightF = function(rightPoint)\n",
    "    else:\n",
    "      stop = rightPoint\n",
    "      rightPoint = leftPoint\n",
    "      stopF = rightF\n",
    "      rightF = leftF\n",
    "      leftPoint = start + (1 - tau)*(stop - start)\n",
    "      leftF = function(leftPoint)"
   ]
  },
  {
   "cell_type": "code",
   "execution_count": 195,
   "metadata": {},
   "outputs": [
    {
     "name": "stdout",
     "output_type": "stream",
     "text": [
      "-3.7448613264581905 0.4006774247987953 6\n"
     ]
    }
   ],
   "source": [
    "(minF, minArg) = parabola(START, STOP, EPS)\n",
    "print(minF, minArg, N)\n",
    "df = pd.concat([df, pd.Series({\"name\": 'Парабола',\"minArg\": minArg, \"minFunction\": minF, \"N\": N}).to_frame().T], ignore_index=True)\n",
    "N = 0"
   ]
  },
  {
   "cell_type": "code",
   "execution_count": 196,
   "metadata": {},
   "outputs": [
    {
     "data": {
      "text/html": [
       "<div>\n",
       "<style scoped>\n",
       "    .dataframe tbody tr th:only-of-type {\n",
       "        vertical-align: middle;\n",
       "    }\n",
       "\n",
       "    .dataframe tbody tr th {\n",
       "        vertical-align: top;\n",
       "    }\n",
       "\n",
       "    .dataframe thead th {\n",
       "        text-align: right;\n",
       "    }\n",
       "</style>\n",
       "<table border=\"1\" class=\"dataframe\">\n",
       "  <thead>\n",
       "    <tr style=\"text-align: right;\">\n",
       "      <th></th>\n",
       "      <th>name</th>\n",
       "      <th>minArg</th>\n",
       "      <th>minFunction</th>\n",
       "      <th>N</th>\n",
       "    </tr>\n",
       "  </thead>\n",
       "  <tbody>\n",
       "    <tr>\n",
       "      <th>0</th>\n",
       "      <td>Перебор</td>\n",
       "      <td>0.383146</td>\n",
       "      <td>-3.74907</td>\n",
       "      <td>91</td>\n",
       "    </tr>\n",
       "    <tr>\n",
       "      <th>1</th>\n",
       "      <td>Поразрядный поиск</td>\n",
       "      <td>0.395312</td>\n",
       "      <td>-3.749069</td>\n",
       "      <td>12</td>\n",
       "    </tr>\n",
       "    <tr>\n",
       "      <th>2</th>\n",
       "      <td>Дихотомия</td>\n",
       "      <td>0.379648</td>\n",
       "      <td>-3.748998</td>\n",
       "      <td>15</td>\n",
       "    </tr>\n",
       "    <tr>\n",
       "      <th>3</th>\n",
       "      <td>Золотое сечение</td>\n",
       "      <td>0.382638</td>\n",
       "      <td>-3.749079</td>\n",
       "      <td>13</td>\n",
       "    </tr>\n",
       "    <tr>\n",
       "      <th>4</th>\n",
       "      <td>Парабола</td>\n",
       "      <td>0.400677</td>\n",
       "      <td>-3.744861</td>\n",
       "      <td>6</td>\n",
       "    </tr>\n",
       "  </tbody>\n",
       "</table>\n",
       "</div>"
      ],
      "text/plain": [
       "                name    minArg minFunction   N\n",
       "0            Перебор  0.383146    -3.74907  91\n",
       "1  Поразрядный поиск  0.395312   -3.749069  12\n",
       "2          Дихотомия  0.379648   -3.748998  15\n",
       "3    Золотое сечение  0.382638   -3.749079  13\n",
       "4           Парабола  0.400677   -3.744861   6"
      ]
     },
     "execution_count": 196,
     "metadata": {},
     "output_type": "execute_result"
    }
   ],
   "source": [
    "df"
   ]
  }
 ],
 "metadata": {
  "kernelspec": {
   "display_name": "Python 3.9.12 ('base')",
   "language": "python",
   "name": "python3"
  },
  "language_info": {
   "codemirror_mode": {
    "name": "ipython",
    "version": 3
   },
   "file_extension": ".py",
   "mimetype": "text/x-python",
   "name": "python",
   "nbconvert_exporter": "python",
   "pygments_lexer": "ipython3",
   "version": "3.9.12"
  },
  "orig_nbformat": 4,
  "vscode": {
   "interpreter": {
    "hash": "7078a8259a9da47834674846d2e014006b0221395b32cf5c78ba3b01ceef5db1"
   }
  }
 },
 "nbformat": 4,
 "nbformat_minor": 2
}
