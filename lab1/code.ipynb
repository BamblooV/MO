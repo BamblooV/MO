{
 "cells": [
  {
   "cell_type": "code",
   "execution_count": null,
   "metadata": {},
   "outputs": [],
   "source": [
    "import math\n",
    "N = 0\n",
    "def function(x):\n",
    "  N += 1\n",
    "  return 10*x*math.log(x) - (x**2 / 2)"
   ]
  },
  {
   "cell_type": "code",
   "execution_count": null,
   "metadata": {},
   "outputs": [],
   "source": [
    "#Перебор"
   ]
  }
 ],
 "metadata": {
  "kernelspec": {
   "display_name": "Python 3.10.7 64-bit",
   "language": "python",
   "name": "python3"
  },
  "language_info": {
   "name": "python",
   "version": "3.10.7"
  },
  "orig_nbformat": 4,
  "vscode": {
   "interpreter": {
    "hash": "d570f6ab7f93863c4a319459e0d78fe97ed0c861da92afcaba4905f699684b7a"
   }
  }
 },
 "nbformat": 4,
 "nbformat_minor": 2
}
