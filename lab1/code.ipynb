{
 "cells": [
  {
   "cell_type": "code",
   "execution_count": 33,
   "metadata": {},
   "outputs": [],
   "source": [
    "import math\n",
    "N = 0\n",
    "START = 0.1\n",
    "STOP = 1\n",
    "def function(x):\n",
    "  global N\n",
    "  N += 1\n",
    "  return 10*x*math.log(x) - (x**2 / 2)"
   ]
  },
  {
   "cell_type": "code",
   "execution_count": 34,
   "metadata": {},
   "outputs": [],
   "source": [
    "import numpy as np"
   ]
  },
  {
   "cell_type": "code",
   "execution_count": 35,
   "metadata": {},
   "outputs": [],
   "source": [
    "#Перебор\n",
    "def perebor(start, stop, epsilon):\n",
    "  numberOfSteps = int((stop-start)/epsilon)\n",
    "  minF = function(start)\n",
    "  minArg = start\n",
    "  for val in np.linspace(start, stop, num=numberOfSteps):\n",
    "    eval = function(val)\n",
    "    if (minF > eval):\n",
    "      minF = eval\n",
    "      minArg = val\n",
    "  return (minF, minArg)"
   ]
  },
  {
   "cell_type": "code",
   "execution_count": 36,
   "metadata": {},
   "outputs": [
    {
     "name": "stdout",
     "output_type": "stream",
     "text": [
      "9.0\n",
      "(-3.712421882682047, 0.4375) 10\n"
     ]
    }
   ],
   "source": [
    "print(perebor(START, STOP, 0.1), N)\n",
    "N = 0"
   ]
  },
  {
   "cell_type": "code",
   "execution_count": 46,
   "metadata": {},
   "outputs": [],
   "source": [
    "# Поразрядный поиск\n",
    "def porPoisk(start, stop, epsilon):\n",
    "  step = (stop - start)/4\n",
    "  if step < epsilon:\n",
    "    print(f'step > epsilon, step={step} epsilon={epsilon}')\n",
    "  minArg = val = start\n",
    "  fNext = function(minArg)\n",
    "  minF = 0\n",
    "  while abs(step) > epsilon:\n",
    "    val += step\n",
    "    f = fNext\n",
    "    fNext = function(val)\n",
    "\n",
    "    if fNext > f:\n",
    "      minF = f;\n",
    "      minArg = val\n",
    "      step /= -4\n",
    "      print('change direction')\n",
    "  return (minF, minArg)\n",
    "  "
   ]
  },
  {
   "cell_type": "code",
   "execution_count": 47,
   "metadata": {},
   "outputs": [
    {
     "name": "stdout",
     "output_type": "stream",
     "text": [
      "change direction\n",
      "(-3.7055853141202983, 0.55) 3\n"
     ]
    }
   ],
   "source": [
    "print(porPoisk(START, STOP, 0.1), N)\n",
    "N = 0"
   ]
  },
  {
   "cell_type": "code",
   "execution_count": 57,
   "metadata": {},
   "outputs": [],
   "source": [
    "# Дихотомия\n",
    "def dihotomia(start, stop, epsilon, delta):\n",
    "  if (0 > delta) or (delta > 2 * epsilon):\n",
    "    print('invalid q')\n",
    "    return 0\n",
    "  leftPoint = (start + stop - delta) / 2\n",
    "  rightPoint = (start + stop + delta) / 2\n",
    "  while (stop - start)/2 > epsilon:\n",
    "\n",
    "    if function(leftPoint) < function(rightPoint):\n",
    "      stop = rightPoint\n",
    "    else:\n",
    "      start = leftPoint\n",
    "    leftPoint = (start + stop - delta) / 2\n",
    "    rightPoint = (start + stop + delta) / 2\n",
    "  minArg = (start + stop) / 2\n",
    "  minF = function(minArg)\n",
    "  return (minF, minArg)"
   ]
  },
  {
   "cell_type": "code",
   "execution_count": 58,
   "metadata": {},
   "outputs": [
    {
     "name": "stdout",
     "output_type": "stream",
     "text": [
      "(-3.7490705391549275, 0.38312500000000005) 7\n"
     ]
    }
   ],
   "source": [
    "print(dihotomia(START, STOP, 0.1, 0.01), N)\n",
    "N = 0"
   ]
  },
  {
   "cell_type": "code",
   "execution_count": 72,
   "metadata": {},
   "outputs": [],
   "source": [
    "# Золотое сечение\n",
    "from math import sqrt\n",
    "\n",
    "\n",
    "def golden(start, stop, epsilon):\n",
    "  tau = (sqrt(5) - 1) / 2\n",
    "  leftPoint = start + (1 - tau)*(stop - start)\n",
    "  rightPoint = start + tau*(stop - start)\n",
    "  leftF = function(leftPoint)\n",
    "  rightF = function(rightPoint)\n",
    "  while abs(stop - start) > epsilon:\n",
    "    if leftF >= rightF:\n",
    "      start = leftPoint\n",
    "      leftPoint = rightPoint\n",
    "      leftF = rightF\n",
    "      rightPoint = start + tau*(stop - start)\n",
    "      rightF = function(rightPoint)\n",
    "    else:\n",
    "      stop = rightPoint\n",
    "      rightPoint = leftPoint\n",
    "      rightF = leftF\n",
    "      leftPoint = start + (1 - tau)*(stop - start)\n",
    "      leftF = function(leftPoint)\n",
    "  minArg = (start + stop) / 2\n",
    "  minF = function(minArg)\n",
    "  return (minF, minArg)\n",
    "    "
   ]
  },
  {
   "cell_type": "code",
   "execution_count": 75,
   "metadata": {},
   "outputs": [
    {
     "name": "stdout",
     "output_type": "stream",
     "text": [
      "(-3.7436453184752825, 0.4031929354378312) 8\n"
     ]
    }
   ],
   "source": [
    "print(golden(START, STOP, 0.1), N)\n",
    "N = 0"
   ]
  }
 ],
 "metadata": {
  "kernelspec": {
   "display_name": "Python 3.9.12 ('base')",
   "language": "python",
   "name": "python3"
  },
  "language_info": {
   "codemirror_mode": {
    "name": "ipython",
    "version": 3
   },
   "file_extension": ".py",
   "mimetype": "text/x-python",
   "name": "python",
   "nbconvert_exporter": "python",
   "pygments_lexer": "ipython3",
   "version": "3.9.12"
  },
  "orig_nbformat": 4,
  "vscode": {
   "interpreter": {
    "hash": "7078a8259a9da47834674846d2e014006b0221395b32cf5c78ba3b01ceef5db1"
   }
  }
 },
 "nbformat": 4,
 "nbformat_minor": 2
}
