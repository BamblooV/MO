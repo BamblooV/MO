{
 "cells": [
  {
   "cell_type": "code",
   "execution_count": 75,
   "metadata": {},
   "outputs": [],
   "source": [
    "import math\n",
    "import numpy as np\n",
    "import pandas as pd\n",
    "import matplotlib.pyplot as plt\n",
    "%matplotlib inline\n",
    "N = 0\n",
    "START = 0.1\n",
    "STOP = 1\n",
    "EPS = 0.1\n",
    "def function(x):\n",
    "  global N\n",
    "  N += 1\n",
    "  return 10*x*math.log(x) - (x**2 / 2)"
   ]
  },
  {
   "cell_type": "markdown",
   "metadata": {},
   "source": [
    "Выбрать для выполнения лабораторной работы тестовую функцию, номер которой соответствует номеру Вашего компьютера."
   ]
  },
  {
   "cell_type": "code",
   "execution_count": 1,
   "metadata": {},
   "outputs": [
    {
     "name": "stdout",
     "output_type": "stream",
     "text": [
      "-x + 10*log(x) + 10\n",
      "-1 + 10/x\n"
     ]
    }
   ],
   "source": [
    "import sympy as sp\n",
    "x = sp.Symbol('x')\n",
    "y = 10 * x * sp.ln( x ) - ( x ** 2 / 2 )\n",
    "print(y.diff(x))\n",
    "print(y.diff(x, x))"
   ]
  },
  {
   "cell_type": "code",
   "execution_count": 77,
   "metadata": {},
   "outputs": [],
   "source": [
    "def first_diff(x):\n",
    "  global N\n",
    "  N += 1\n",
    "  return -x+10*math.log(x)+10\n",
    "\n",
    "def second_diff(x):\n",
    "  global N\n",
    "  N += 1\n",
    "  return -1 + 10/x"
   ]
  },
  {
   "cell_type": "code",
   "execution_count": 78,
   "metadata": {},
   "outputs": [],
   "source": [
    "EPSILONS = [1e-1, 1e-2, 1e-3, 1e-4, 1e-5, 1e-6]\n",
    "funcs = []"
   ]
  },
  {
   "cell_type": "markdown",
   "metadata": {},
   "source": [
    "Написать в среде MATLAB функции, реализующие метод паребора, метод поразрядного поиска, метод дихотомии, метод золотого сечения, метод парабол, метод средней точки, метод хорд и метод Ньютона."
   ]
  },
  {
   "cell_type": "code",
   "execution_count": 79,
   "metadata": {},
   "outputs": [],
   "source": [
    "#Перебор\n",
    "def perebor(start, stop, epsilon):\n",
    "  numberOfSteps = int((stop-start)/epsilon)\n",
    "  minF = function(start)\n",
    "  minArg = start\n",
    "  for val in np.linspace(start, stop, num=numberOfSteps):\n",
    "    eval = function(val)\n",
    "    if (minF > eval):\n",
    "      minF = eval\n",
    "      minArg = val\n",
    "  return (minF, minArg)\n",
    "funcs.append(('Перебор', perebor))"
   ]
  },
  {
   "cell_type": "code",
   "execution_count": 80,
   "metadata": {},
   "outputs": [],
   "source": [
    "# Поразрядный поиск\n",
    "def porPoisk(start, stop, epsilon):\n",
    "  step = (stop - start)/4\n",
    "  if step < epsilon:\n",
    "    print(f'step > epsilon, step={step} epsilon={epsilon}')\n",
    "  minArg = val = start\n",
    "  fNext = function(minArg)\n",
    "  minF = 0\n",
    "  while abs(step) > epsilon:\n",
    "    val += step\n",
    "    f = fNext\n",
    "    fNext = function(val)\n",
    "\n",
    "    if fNext > f:\n",
    "      minF = f;\n",
    "      minArg = val\n",
    "      step /= -4\n",
    "      # print('change direction')\n",
    "  return (minF, minArg)\n",
    "funcs.append(('Поразрядный поиск', porPoisk))\n",
    "  "
   ]
  },
  {
   "cell_type": "code",
   "execution_count": 81,
   "metadata": {},
   "outputs": [],
   "source": [
    "# Дихотомия\n",
    "def dihotomia(start, stop, epsilon, delta):\n",
    "  if (0 > delta) or (delta > 2 * epsilon):\n",
    "    print('invalid q')\n",
    "    return 0\n",
    "  leftPoint = (start + stop - delta) / 2\n",
    "  rightPoint = (start + stop + delta) / 2\n",
    "  while (stop - start)/2 > epsilon:\n",
    "\n",
    "    if function(leftPoint) < function(rightPoint):\n",
    "      stop = rightPoint\n",
    "    else:\n",
    "      start = leftPoint\n",
    "    leftPoint = (start + stop - delta) / 2\n",
    "    rightPoint = (start + stop + delta) / 2\n",
    "  minArg = (start + stop) / 2\n",
    "  minF = function(minArg)\n",
    "  return (minF, minArg)\n",
    "\n",
    "\n",
    "def normalizer(start, stop, epsilon):\n",
    "  return dihotomia(start, stop, epsilon, epsilon)\n",
    "\n",
    "  \n",
    "funcs.append(('Дихотомия', normalizer))"
   ]
  },
  {
   "cell_type": "code",
   "execution_count": 82,
   "metadata": {},
   "outputs": [],
   "source": [
    "# Золотое сечение\n",
    "def golden(start, stop, epsilon):\n",
    "  tau = (math.sqrt(5) - 1) / 2\n",
    "  leftPoint = start + (1 - tau)*(stop - start)\n",
    "  rightPoint = start + tau*(stop - start)\n",
    "  leftF = function(leftPoint)\n",
    "  rightF = function(rightPoint)\n",
    "  while abs(stop - start) > epsilon:\n",
    "    if leftF >= rightF:\n",
    "      start = leftPoint\n",
    "      leftPoint = rightPoint\n",
    "      leftF = rightF\n",
    "      rightPoint = start + tau*(stop - start)\n",
    "      rightF = function(rightPoint)\n",
    "    else:\n",
    "      stop = rightPoint\n",
    "      rightPoint = leftPoint\n",
    "      rightF = leftF\n",
    "      leftPoint = start + (1 - tau)*(stop - start)\n",
    "      leftF = function(leftPoint)\n",
    "  minArg = (start + stop) / 2\n",
    "  minF = function(minArg)\n",
    "  return (minF, minArg)\n",
    "funcs.append(('Золотое сечение', golden))\n",
    "    "
   ]
  },
  {
   "cell_type": "code",
   "execution_count": 83,
   "metadata": {},
   "outputs": [],
   "source": [
    "def parabola(start, stop, epsilon):\n",
    "  (x1, x2, x3, f1, f2, f3) = goldPoints(start, stop)\n",
    "\n",
    "  a1 = (f2 - f1)/(x2 - x1)\n",
    "  a2 = 1/(x3 - x2) * ((f3 - f1)/(x3 - x1) - (f2 - f1)/(x2 - x1))\n",
    "  newX = (x1 + x2 - a1/a2)/2\n",
    "\n",
    "  if (x1<newX<x2<x3):\n",
    "    x1 = newX\n",
    "    f1 = function(newX)\n",
    "  \n",
    "  if ((x1<x2<newX<x3)):\n",
    "    x3 = newX\n",
    "    f3 = function(newX)\n",
    "\n",
    "  oldX = newX\n",
    "\n",
    "  a1 = (f2 - f1)/(x2 - x1)\n",
    "  a2 = 1/(x3 - x2) * ((f3 - f1)/(x3 - x1) - (f2 - f1)/(x2 - x1))\n",
    "  newX = (x1 + x2 - a1/a2)/2\n",
    "\n",
    "  while abs(oldX - newX) > epsilon:\n",
    "\n",
    "    if (x1<newX<x2<x3):\n",
    "      x1 = newX\n",
    "      f1 = function(newX)\n",
    "  \n",
    "    if ((x1<x2<newX<x3)):\n",
    "      x3 = newX\n",
    "      f3 = function(newX)\n",
    "\n",
    "    oldX = newX\n",
    "\n",
    "    a1 = (f2 - f1)/(x2 - x1)\n",
    "    a2 = 1/(x3 - x2) * ((f3 - f1)/(x3 - x1) - (f2 - f1)/(x2 - x1))\n",
    "    newX = (x1 + x2 - a1/a2)/2\n",
    "  \n",
    "  minArg = newX\n",
    "  minF = function(newX)\n",
    "  return (minF, minArg)\n",
    "\n",
    "def goldPoints(start, stop):\n",
    "  tau = (math.sqrt(5) - 1) / 2\n",
    "  leftPoint = start + (1 - tau)*(stop - start)\n",
    "  rightPoint = start + tau*(stop - start)\n",
    "  leftF = function(leftPoint)\n",
    "  rightF = function(rightPoint)\n",
    "  startF = function(start)\n",
    "  stopF = function(stop)\n",
    "  while True:\n",
    "\n",
    "    if (startF >= leftF < stopF) or (startF > leftF <= stopF):\n",
    "      return (start, leftPoint, stop, startF, leftF, stopF)\n",
    "\n",
    "    if (leftF >= rightF < stopF) or (leftF > rightF <= stopF):\n",
    "      return (leftPoint, rightPoint, stop, leftF, rightF, stopF)\n",
    "\n",
    "    if leftF >= rightF:\n",
    "      start = leftPoint\n",
    "      leftPoint = rightPoint\n",
    "      startF = leftF\n",
    "      leftF = rightF\n",
    "      rightPoint = start + tau*(stop - start)\n",
    "      rightF = function(rightPoint)\n",
    "    else:\n",
    "      stop = rightPoint\n",
    "      rightPoint = leftPoint\n",
    "      stopF = rightF\n",
    "      rightF = leftF\n",
    "      leftPoint = start + (1 - tau)*(stop - start)\n",
    "      leftF = function(leftPoint)\n",
    "funcs.append(('Парабола', parabola))"
   ]
  },
  {
   "cell_type": "code",
   "execution_count": 84,
   "metadata": {},
   "outputs": [],
   "source": [
    "# Средняя точка\n",
    "def meanPoint(start, stop, epsilon):\n",
    "  mP = (start + stop)/2\n",
    "  fD = first_diff(mP)\n",
    "  while (abs(fD) > epsilon):\n",
    "  # while (abs(start - stop)/2> epsilon):\n",
    "    if (fD > 0):\n",
    "      stop = mP\n",
    "\n",
    "    if (fD < 0):\n",
    "      start = mP\n",
    "    \n",
    "    mP = (start + stop)/2\n",
    "    fD = first_diff(mP)\n",
    "  \n",
    "  minArg = mP\n",
    "  minF = function(mP)\n",
    "  return (minF, minArg)  \n",
    "\n",
    "funcs.append(('Средняя точка', meanPoint))"
   ]
  },
  {
   "cell_type": "code",
   "execution_count": 85,
   "metadata": {},
   "outputs": [],
   "source": [
    "# Метод хорд\n",
    "def horda(start, stop, epsilon):\n",
    "  startDiff = first_diff(start)\n",
    "  stopDiff = first_diff(stop)\n",
    "  hP = start - startDiff/(startDiff - stopDiff) * (start - stop)\n",
    "  tmpDiff = first_diff(hP)\n",
    "  while abs(tmpDiff) > epsilon:\n",
    "    if (tmpDiff < 0):\n",
    "      start = hP\n",
    "      startDiff = first_diff(start)\n",
    "\n",
    "    if (tmpDiff > 0):\n",
    "      stop = hP\n",
    "      stopDiff = first_diff(stop)\n",
    "\n",
    "    hP = start - startDiff/(startDiff - stopDiff) * (start - stop)\n",
    "    tmpDiff = first_diff(hP)\n",
    "\n",
    "  minArg = hP\n",
    "  minF = function(hP)\n",
    "  return (minF, minArg)  \n",
    "\n",
    "funcs.append(('Метод Хорд', horda))"
   ]
  },
  {
   "cell_type": "code",
   "execution_count": 86,
   "metadata": {},
   "outputs": [],
   "source": [
    "# Ньютон\n",
    "def newton(start, stop, epsilon):\n",
    "  xprev = start\n",
    "  fD = first_diff(xprev)\n",
    "  sD = second_diff(xprev)\n",
    "  nP = xprev - fD/sD\n",
    "\n",
    "  while abs(fD) > epsilon:\n",
    "    xprev = nP\n",
    "    fD = first_diff(xprev)\n",
    "    sD = second_diff(xprev)\n",
    "    nP = xprev - fD/sD\n",
    "\n",
    "  minArg = nP\n",
    "  minF = function(nP)\n",
    "  return (minF, minArg)  \n",
    "\n",
    "funcs.append(('Метод Ньютона', newton))"
   ]
  },
  {
   "cell_type": "code",
   "execution_count": 87,
   "metadata": {},
   "outputs": [],
   "source": [
    "tmp = {'name': [], **{f'EPS={eps}': [] for eps in EPSILONS}}\n",
    "for f in funcs:\n",
    "  tmp['name'].append(f[0])\n",
    "  for eps in EPSILONS:\n",
    "    (minF, minArg) = f[1](START, STOP, eps)\n",
    "    tmp[f'EPS={eps}'].append(N)\n",
    "    N = 0\n",
    "\n",
    "newDf = pd.DataFrame(tmp)"
   ]
  },
  {
   "cell_type": "code",
   "execution_count": 88,
   "metadata": {},
   "outputs": [],
   "source": [
    "newDf.iloc[:,1:]=newDf.iloc[:,1:]-1"
   ]
  },
  {
   "cell_type": "markdown",
   "metadata": {},
   "source": [
    "Для выбранной функции (построить ее график!) и для каждого рассмотренного выше метода изучить зависимость скорости работы (числа вычислений функции или производной  ) от заданного значения точности  . Провести сравнение методов друг с другом. Объяснить полученные результаты. "
   ]
  },
  {
   "cell_type": "code",
   "execution_count": 89,
   "metadata": {},
   "outputs": [
    {
     "data": {
      "text/html": [
       "<div>\n",
       "<style scoped>\n",
       "    .dataframe tbody tr th:only-of-type {\n",
       "        vertical-align: middle;\n",
       "    }\n",
       "\n",
       "    .dataframe tbody tr th {\n",
       "        vertical-align: top;\n",
       "    }\n",
       "\n",
       "    .dataframe thead th {\n",
       "        text-align: right;\n",
       "    }\n",
       "</style>\n",
       "<table border=\"1\" class=\"dataframe\">\n",
       "  <thead>\n",
       "    <tr style=\"text-align: right;\">\n",
       "      <th></th>\n",
       "      <th>name</th>\n",
       "      <th>EPS=0.1</th>\n",
       "      <th>EPS=0.01</th>\n",
       "      <th>EPS=0.001</th>\n",
       "      <th>EPS=0.0001</th>\n",
       "      <th>EPS=1e-05</th>\n",
       "      <th>EPS=1e-06</th>\n",
       "    </tr>\n",
       "  </thead>\n",
       "  <tbody>\n",
       "    <tr>\n",
       "      <th>0</th>\n",
       "      <td>Перебор</td>\n",
       "      <td>9</td>\n",
       "      <td>90</td>\n",
       "      <td>900</td>\n",
       "      <td>9000</td>\n",
       "      <td>90000</td>\n",
       "      <td>900000</td>\n",
       "    </tr>\n",
       "    <tr>\n",
       "      <th>1</th>\n",
       "      <td>Поразрядный поиск</td>\n",
       "      <td>2</td>\n",
       "      <td>11</td>\n",
       "      <td>16</td>\n",
       "      <td>27</td>\n",
       "      <td>41</td>\n",
       "      <td>46</td>\n",
       "    </tr>\n",
       "    <tr>\n",
       "      <th>2</th>\n",
       "      <td>Дихотомия</td>\n",
       "      <td>8</td>\n",
       "      <td>14</td>\n",
       "      <td>20</td>\n",
       "      <td>28</td>\n",
       "      <td>34</td>\n",
       "      <td>40</td>\n",
       "    </tr>\n",
       "    <tr>\n",
       "      <th>3</th>\n",
       "      <td>Золотое сечение</td>\n",
       "      <td>7</td>\n",
       "      <td>12</td>\n",
       "      <td>17</td>\n",
       "      <td>21</td>\n",
       "      <td>26</td>\n",
       "      <td>31</td>\n",
       "    </tr>\n",
       "    <tr>\n",
       "      <th>4</th>\n",
       "      <td>Парабола</td>\n",
       "      <td>5</td>\n",
       "      <td>6</td>\n",
       "      <td>6</td>\n",
       "      <td>6</td>\n",
       "      <td>6</td>\n",
       "      <td>6</td>\n",
       "    </tr>\n",
       "    <tr>\n",
       "      <th>5</th>\n",
       "      <td>Средняя точка</td>\n",
       "      <td>4</td>\n",
       "      <td>10</td>\n",
       "      <td>13</td>\n",
       "      <td>15</td>\n",
       "      <td>20</td>\n",
       "      <td>24</td>\n",
       "    </tr>\n",
       "    <tr>\n",
       "      <th>6</th>\n",
       "      <td>Метод Хорд</td>\n",
       "      <td>15</td>\n",
       "      <td>21</td>\n",
       "      <td>27</td>\n",
       "      <td>33</td>\n",
       "      <td>39</td>\n",
       "      <td>43</td>\n",
       "    </tr>\n",
       "    <tr>\n",
       "      <th>7</th>\n",
       "      <td>Метод Ньютона</td>\n",
       "      <td>8</td>\n",
       "      <td>10</td>\n",
       "      <td>10</td>\n",
       "      <td>10</td>\n",
       "      <td>12</td>\n",
       "      <td>12</td>\n",
       "    </tr>\n",
       "  </tbody>\n",
       "</table>\n",
       "</div>"
      ],
      "text/plain": [
       "                name  EPS=0.1  EPS=0.01  EPS=0.001  EPS=0.0001  EPS=1e-05  \\\n",
       "0            Перебор        9        90        900        9000      90000   \n",
       "1  Поразрядный поиск        2        11         16          27         41   \n",
       "2          Дихотомия        8        14         20          28         34   \n",
       "3    Золотое сечение        7        12         17          21         26   \n",
       "4           Парабола        5         6          6           6          6   \n",
       "5      Средняя точка        4        10         13          15         20   \n",
       "6         Метод Хорд       15        21         27          33         39   \n",
       "7      Метод Ньютона        8        10         10          10         12   \n",
       "\n",
       "   EPS=1e-06  \n",
       "0     900000  \n",
       "1         46  \n",
       "2         40  \n",
       "3         31  \n",
       "4          6  \n",
       "5         24  \n",
       "6         43  \n",
       "7         12  "
      ]
     },
     "execution_count": 89,
     "metadata": {},
     "output_type": "execute_result"
    }
   ],
   "source": [
    "newDf"
   ]
  },
  {
   "cell_type": "code",
   "execution_count": 90,
   "metadata": {},
   "outputs": [
    {
     "data": {
      "text/html": [
       "<div>\n",
       "<style scoped>\n",
       "    .dataframe tbody tr th:only-of-type {\n",
       "        vertical-align: middle;\n",
       "    }\n",
       "\n",
       "    .dataframe tbody tr th {\n",
       "        vertical-align: top;\n",
       "    }\n",
       "\n",
       "    .dataframe thead th {\n",
       "        text-align: right;\n",
       "    }\n",
       "</style>\n",
       "<table border=\"1\" class=\"dataframe\">\n",
       "  <thead>\n",
       "    <tr style=\"text-align: right;\">\n",
       "      <th></th>\n",
       "      <th>name</th>\n",
       "      <th>EPS=0.1</th>\n",
       "      <th>EPS=0.01</th>\n",
       "      <th>EPS=0.001</th>\n",
       "      <th>EPS=0.0001</th>\n",
       "      <th>EPS=1e-05</th>\n",
       "      <th>EPS=1e-06</th>\n",
       "    </tr>\n",
       "  </thead>\n",
       "  <tbody>\n",
       "    <tr>\n",
       "      <th>0</th>\n",
       "      <td>Перебор</td>\n",
       "      <td>9</td>\n",
       "      <td>90</td>\n",
       "      <td>900</td>\n",
       "      <td>9000</td>\n",
       "      <td>90000</td>\n",
       "      <td>900000</td>\n",
       "    </tr>\n",
       "    <tr>\n",
       "      <th>1</th>\n",
       "      <td>Поразрядный поиск</td>\n",
       "      <td>2</td>\n",
       "      <td>11</td>\n",
       "      <td>16</td>\n",
       "      <td>27</td>\n",
       "      <td>41</td>\n",
       "      <td>46</td>\n",
       "    </tr>\n",
       "    <tr>\n",
       "      <th>2</th>\n",
       "      <td>Дихотомия</td>\n",
       "      <td>8</td>\n",
       "      <td>14</td>\n",
       "      <td>20</td>\n",
       "      <td>28</td>\n",
       "      <td>34</td>\n",
       "      <td>40</td>\n",
       "    </tr>\n",
       "    <tr>\n",
       "      <th>3</th>\n",
       "      <td>Золотое сечение</td>\n",
       "      <td>7</td>\n",
       "      <td>12</td>\n",
       "      <td>17</td>\n",
       "      <td>21</td>\n",
       "      <td>26</td>\n",
       "      <td>31</td>\n",
       "    </tr>\n",
       "    <tr>\n",
       "      <th>4</th>\n",
       "      <td>Парабола</td>\n",
       "      <td>5</td>\n",
       "      <td>6</td>\n",
       "      <td>6</td>\n",
       "      <td>6</td>\n",
       "      <td>6</td>\n",
       "      <td>6</td>\n",
       "    </tr>\n",
       "    <tr>\n",
       "      <th>5</th>\n",
       "      <td>Средняя точка</td>\n",
       "      <td>4</td>\n",
       "      <td>10</td>\n",
       "      <td>13</td>\n",
       "      <td>15</td>\n",
       "      <td>20</td>\n",
       "      <td>24</td>\n",
       "    </tr>\n",
       "    <tr>\n",
       "      <th>6</th>\n",
       "      <td>Метод Хорд</td>\n",
       "      <td>15</td>\n",
       "      <td>21</td>\n",
       "      <td>27</td>\n",
       "      <td>33</td>\n",
       "      <td>39</td>\n",
       "      <td>43</td>\n",
       "    </tr>\n",
       "    <tr>\n",
       "      <th>7</th>\n",
       "      <td>Метод Ньютона</td>\n",
       "      <td>8</td>\n",
       "      <td>10</td>\n",
       "      <td>10</td>\n",
       "      <td>10</td>\n",
       "      <td>12</td>\n",
       "      <td>12</td>\n",
       "    </tr>\n",
       "  </tbody>\n",
       "</table>\n",
       "</div>"
      ],
      "text/plain": [
       "                name  EPS=0.1  EPS=0.01  EPS=0.001  EPS=0.0001  EPS=1e-05  \\\n",
       "0            Перебор        9        90        900        9000      90000   \n",
       "1  Поразрядный поиск        2        11         16          27         41   \n",
       "2          Дихотомия        8        14         20          28         34   \n",
       "3    Золотое сечение        7        12         17          21         26   \n",
       "4           Парабола        5         6          6           6          6   \n",
       "5      Средняя точка        4        10         13          15         20   \n",
       "6         Метод Хорд       15        21         27          33         39   \n",
       "7      Метод Ньютона        8        10         10          10         12   \n",
       "\n",
       "   EPS=1e-06  \n",
       "0     900000  \n",
       "1         46  \n",
       "2         40  \n",
       "3         31  \n",
       "4          6  \n",
       "5         24  \n",
       "6         43  \n",
       "7         12  "
      ]
     },
     "execution_count": 90,
     "metadata": {},
     "output_type": "execute_result"
    }
   ],
   "source": [
    "newDf"
   ]
  },
  {
   "cell_type": "code",
   "execution_count": 91,
   "metadata": {},
   "outputs": [
    {
     "data": {
      "text/html": [
       "<div>\n",
       "<style scoped>\n",
       "    .dataframe tbody tr th:only-of-type {\n",
       "        vertical-align: middle;\n",
       "    }\n",
       "\n",
       "    .dataframe tbody tr th {\n",
       "        vertical-align: top;\n",
       "    }\n",
       "\n",
       "    .dataframe thead th {\n",
       "        text-align: right;\n",
       "    }\n",
       "</style>\n",
       "<table border=\"1\" class=\"dataframe\">\n",
       "  <thead>\n",
       "    <tr style=\"text-align: right;\">\n",
       "      <th></th>\n",
       "      <th>name</th>\n",
       "      <th>EPS=0.1</th>\n",
       "      <th>EPS=0.01</th>\n",
       "      <th>EPS=0.001</th>\n",
       "      <th>EPS=0.0001</th>\n",
       "      <th>EPS=1e-05</th>\n",
       "      <th>EPS=1e-06</th>\n",
       "    </tr>\n",
       "  </thead>\n",
       "  <tbody>\n",
       "    <tr>\n",
       "      <th>1</th>\n",
       "      <td>Поразрядный поиск</td>\n",
       "      <td>2</td>\n",
       "      <td>11</td>\n",
       "      <td>16</td>\n",
       "      <td>27</td>\n",
       "      <td>41</td>\n",
       "      <td>46</td>\n",
       "    </tr>\n",
       "    <tr>\n",
       "      <th>5</th>\n",
       "      <td>Средняя точка</td>\n",
       "      <td>4</td>\n",
       "      <td>10</td>\n",
       "      <td>13</td>\n",
       "      <td>15</td>\n",
       "      <td>20</td>\n",
       "      <td>24</td>\n",
       "    </tr>\n",
       "  </tbody>\n",
       "</table>\n",
       "</div>"
      ],
      "text/plain": [
       "                name  EPS=0.1  EPS=0.01  EPS=0.001  EPS=0.0001  EPS=1e-05  \\\n",
       "1  Поразрядный поиск        2        11         16          27         41   \n",
       "5      Средняя точка        4        10         13          15         20   \n",
       "\n",
       "   EPS=1e-06  \n",
       "1         46  \n",
       "5         24  "
      ]
     },
     "execution_count": 91,
     "metadata": {},
     "output_type": "execute_result"
    }
   ],
   "source": [
    "newDf[(newDf['name'] == 'Поразрядный поиск') | (newDf['name'] == 'Средняя точка')]"
   ]
  },
  {
   "cell_type": "code",
   "execution_count": 19,
   "metadata": {},
   "outputs": [
    {
     "data": {
      "image/png": "[encoded data removed]",
      "text/plain": [
       "<Figure size 432x288 with 1 Axes>"
      ]
     },
     "metadata": {
      "needs_background": "light"
     },
     "output_type": "display_data"
    }
   ],
   "source": [
    "x = np.linspace(START, STOP, 100)\n",
    "y= 10*x*np.log(x) - (np.power(x, 2) / 2)\n",
    "\n",
    "\n",
    "fig, ax = plt.subplots()\n",
    "ax.plot(x, y)\n",
    "\n",
    "ax.set(xlabel='x', ylabel='y',\n",
    "       title='y = 10*x*ln(x) - (x^2 / 2)')\n",
    "ax.grid()\n",
    "\n",
    "plt.show()"
   ]
  },
  {
   "cell_type": "markdown",
   "metadata": {},
   "source": [
    "С помощью метода Ньютона, используя аналитические производные и  их численные аппроксимации решить задачу минимизации функции.\n",
    "для нескольких вариантов выбора начального приближения. Убедиться в том, что при выборе начального приближения не достаточно близко от точки минимума метод Ньютона может расходиться. Найти диапазон начальных приближений, при которых метод сходиться к точке минимума функции.\n"
   ]
  },
  {
   "cell_type": "code",
   "execution_count": 190,
   "metadata": {},
   "outputs": [],
   "source": [
    "import sympy\n",
    "x = sympy.Symbol('x')\n",
    "f = x * sympy.atan(x) - 1/2 * sympy.log(1 + x **2)"
   ]
  },
  {
   "cell_type": "code",
   "execution_count": 191,
   "metadata": {},
   "outputs": [],
   "source": [
    "def newton_sympy(start: float, epsilon=1e-6):\n",
    "  xprev = start\n",
    "  fD = sympy.diff(f)\n",
    "  sD = sympy.diff(fD)\n",
    "  nP = xprev - fD.subs(x, xprev)/sD.subs(x, xprev)\n",
    "\n",
    "\n",
    "  while abs(fD.subs(x, xprev)) > epsilon:\n",
    "    xprev = nP\n",
    "    nP = xprev - fD.subs(x, xprev)/sD.subs(x, xprev)\n",
    "    if nP - xprev > 10000: return False\n",
    "\n",
    "  return minArg\n"
   ]
  },
  {
   "cell_type": "markdown",
   "metadata": {},
   "source": [
    "![Alt text](../../../../../D:/5course1sem/%D0%9C%D0%9E/MO/lab1/Screenshot_16.png)"
   ]
  },
  {
   "cell_type": "code",
   "execution_count": null,
   "metadata": {},
   "outputs": [
    {
     "data": {
      "image/png": "[encoded data removed]",
      "text/plain": [
       "<Figure size 432x288 with 1 Axes>"
      ]
     },
     "metadata": {},
     "output_type": "display_data"
    },
    {
     "data": {
      "text/plain": [
       "<sympy.plotting.plot.Plot at 0x2030ef6f820>"
      ]
     },
     "metadata": {},
     "output_type": "display_data"
    }
   ],
   "source": [
    "p1 = sympy.plotting.plot(sympy.diff(f,x,3), sympy.diff(f,x,1))\n",
    "p1"
   ]
  },
  {
   "cell_type": "code",
   "execution_count": 192,
   "metadata": {},
   "outputs": [
    {
     "data": {
      "text/plain": [
       "0.3822124174679943"
      ]
     },
     "execution_count": 192,
     "metadata": {},
     "output_type": "execute_result"
    }
   ],
   "source": [
    "newton_sympy(1.39)"
   ]
  },
  {
   "cell_type": "code",
   "execution_count": 193,
   "metadata": {},
   "outputs": [],
   "source": [
    "def getBoundaries(cb):\n",
    "  closePoints = []\n",
    "  for i in range(-300, 300, 1):\n",
    "    if (isinstance(cb(i/100), bool)):\n",
    "      pass\n",
    "    else:\n",
    "      closePoints.append(i/100)\n",
    "  print(f'x should be from {min(closePoints)} to {max(closePoints)}')\n",
    "  return closePoints"
   ]
  },
  {
   "cell_type": "code",
   "execution_count": 194,
   "metadata": {},
   "outputs": [
    {
     "name": "stdout",
     "output_type": "stream",
     "text": [
      "x should be from -1.39 to 1.39\n"
     ]
    },
    {
     "data": {
      "text/plain": [
       "1"
      ]
     },
     "execution_count": 194,
     "metadata": {},
     "output_type": "execute_result"
    }
   ],
   "source": [
    "getBoundaries(newton_sympy)\n",
    "1"
   ]
  },
  {
   "cell_type": "code",
   "execution_count": 196,
   "metadata": {},
   "outputs": [],
   "source": [
    "def newtonRaf_sympy(start: float, epsilon=1e-6):\n",
    "  xprev = start\n",
    "  fD = sympy.diff(f)\n",
    "  sD = sympy.diff(fD)\n",
    "  nP = xprev - fD.subs(x, xprev)/sD.subs(x, xprev)\n",
    "  tk = fD.subs(x,xprev)**2 / (fD.subs(x,xprev)**2 + fD.subs(x,nP)**2)\n",
    "\n",
    "  while abs(fD.subs(x, xprev)) > epsilon:\n",
    "    xprev = nP\n",
    "    nP = xprev - tk * fD.subs(x, xprev)/sD.subs(x, xprev)\n",
    "    tk = fD.subs(x,xprev)**2 / (fD.subs(x,xprev)**2 + fD.subs(x,nP)**2)\n",
    "    if nP - xprev > 10000: return False\n",
    "\n",
    "  return minArg"
   ]
  },
  {
   "cell_type": "code",
   "execution_count": 197,
   "metadata": {},
   "outputs": [
    {
     "name": "stdout",
     "output_type": "stream",
     "text": [
      "x should be from -1.91 to 1.91\n"
     ]
    },
    {
     "data": {
      "text/plain": [
       "1"
      ]
     },
     "execution_count": 197,
     "metadata": {},
     "output_type": "execute_result"
    }
   ],
   "source": [
    "getBoundaries(newtonRaf_sympy)\n",
    "1"
   ]
  },
  {
   "cell_type": "code",
   "execution_count": 198,
   "metadata": {},
   "outputs": [
    {
     "data": {
      "text/plain": [
       "1"
      ]
     },
     "execution_count": 198,
     "metadata": {},
     "output_type": "execute_result"
    }
   ],
   "source": [
    "newtonRaf_sympy(1.91)\n",
    "1"
   ]
  },
  {
   "cell_type": "code",
   "execution_count": 199,
   "metadata": {},
   "outputs": [],
   "source": [
    "def newtonMark_sympy(start: float, epsilon=1e-6):\n",
    "  xprev = start\n",
    "  fD = sympy.diff(f)\n",
    "  sD = sympy.diff(fD)\n",
    "  myk = sD.subs(x, xprev) * 100\n",
    "  nP = xprev - fD.subs(x, xprev)/(sD.subs(x, xprev) + myk)\n",
    "\n",
    "  while abs(fD.subs(x, xprev)) > epsilon:\n",
    "    if (f.subs(x, nP) < f.subs(x, xprev)):\n",
    "      myk = myk / 2\n",
    "    else:\n",
    "      myk = myk * 2\n",
    "    xprev = nP\n",
    "    nP = xprev - fD.subs(x, xprev)/sD.subs(x, xprev)\n",
    "    if nP - xprev > 10000: return False\n",
    "\n",
    "  return minArg"
   ]
  },
  {
   "cell_type": "code",
   "execution_count": 200,
   "metadata": {},
   "outputs": [
    {
     "name": "stdout",
     "output_type": "stream",
     "text": [
      "x should be from -1.42 to 1.42\n"
     ]
    },
    {
     "data": {
      "text/plain": [
       "1"
      ]
     },
     "execution_count": 200,
     "metadata": {},
     "output_type": "execute_result"
    }
   ],
   "source": [
    "getBoundaries(newtonMark_sympy)\n",
    "1"
   ]
  },
  {
   "cell_type": "code",
   "execution_count": 201,
   "metadata": {},
   "outputs": [
    {
     "data": {
      "text/plain": [
       "0.3822124174679943"
      ]
     },
     "execution_count": 201,
     "metadata": {},
     "output_type": "execute_result"
    }
   ],
   "source": [
    "newtonMark_sympy(1.42)"
   ]
  }
 ],
 "metadata": {
  "kernelspec": {
   "display_name": "base",
   "language": "python",
   "name": "python3"
  },
  "language_info": {
   "codemirror_mode": {
    "name": "ipython",
    "version": 3
   },
   "file_extension": ".py",
   "mimetype": "text/x-python",
   "name": "python",
   "nbconvert_exporter": "python",
   "pygments_lexer": "ipython3",
   "version": "3.8.12 (default, Oct 12 2021, 03:01:40) [MSC v.1916 64 bit (AMD64)]"
  },
  "orig_nbformat": 4,
  "vscode": {
   "interpreter": {
    "hash": "6f5583cf1d9466b5c27e75c89cc6b383bed5736d6b16c51c8074d8690011a952"
   }
  }
 },
 "nbformat": 4,
 "nbformat_minor": 2
}
