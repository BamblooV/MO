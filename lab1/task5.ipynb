{
 "cells": [
  {
   "cell_type": "code",
   "execution_count": 1,
   "metadata": {},
   "outputs": [],
   "source": [
    "import math\n",
    "import numpy as np\n",
    "N1 = 0\n",
    "N2 = 0"
   ]
  },
  {
   "cell_type": "code",
   "execution_count": 2,
   "metadata": {},
   "outputs": [],
   "source": [
    "def func1(x):\n",
    "  global N1\n",
    "  N1 = N1 + 1\n",
    "  return math.cos(x)/(x**2)\n",
    "\n",
    "def func1D1(x):\n",
    "  return (x*math.sin(x) + 2 * math.cos(x))/(x**3)\n",
    "\n",
    "def func2(x):\n",
    "  global N2\n",
    "  N2 = N2 + 1\n",
    "  return x/10 - 2 * math.sin(4*x)\n",
    "\n",
    "def func2D1(x):\n",
    "  return 1/10 - 8*math.cos(4*x)"
   ]
  },
  {
   "cell_type": "code",
   "execution_count": 3,
   "metadata": {},
   "outputs": [],
   "source": [
    "def perebor(start, stop, epsilon, cb):\n",
    "  stepsAmount = int((stop-start)/epsilon)\n",
    "  minFuncValue = cb(start)\n",
    "  minArg = start\n",
    "  for var in np.linspace(start, stop, num=stepsAmount):\n",
    "    eval = cb(var)\n",
    "    if (minFuncValue > eval):\n",
    "      minFuncValue = eval\n",
    "      minArg = var\n",
    "  return (minFuncValue, minArg)"
   ]
  },
  {
   "cell_type": "code",
   "execution_count": 4,
   "metadata": {},
   "outputs": [
    {
     "name": "stdout",
     "output_type": "stream",
     "text": [
      "(-0.1283249284850938, 2.4587141326103756)\n",
      "(-1.9608863438645774, 0.38957409739352433)\n"
     ]
    }
   ],
   "source": [
    "print(perebor(1, 12,1e-6,func1))\n",
    "print(perebor(0, 4,1e-6,func2))"
   ]
  },
  {
   "cell_type": "code",
   "execution_count": 5,
   "metadata": {},
   "outputs": [],
   "source": [
    "def lom(start, stop, epsilon, cb, cbD):\n",
    "  lipsic = max([cbD(val) for val in np.linspace(start, stop, num=int((stop-start)/1e-3))])\n",
    "  x0 = (cb(start) - cb(stop) + lipsic*(start + stop))/(2*lipsic)\n",
    "  y0 = (cb(start) - cb(stop) + lipsic*(start - stop))/(2*lipsic)"
   ]
  },
  {
   "cell_type": "code",
   "execution_count": 6,
   "metadata": {},
   "outputs": [
    {
     "name": "stdout",
     "output_type": "stream",
     "text": [
      "1.922075596544176\n"
     ]
    }
   ],
   "source": [
    "lom(1, 12,1e-6,func1, func1D1)"
   ]
  }
 ],
 "metadata": {
  "kernelspec": {
   "display_name": "Python 3.9.12 ('base')",
   "language": "python",
   "name": "python3"
  },
  "language_info": {
   "codemirror_mode": {
    "name": "ipython",
    "version": 3
   },
   "file_extension": ".py",
   "mimetype": "text/x-python",
   "name": "python",
   "nbconvert_exporter": "python",
   "pygments_lexer": "ipython3",
   "version": "3.9.12"
  },
  "orig_nbformat": 4,
  "vscode": {
   "interpreter": {
    "hash": "7078a8259a9da47834674846d2e014006b0221395b32cf5c78ba3b01ceef5db1"
   }
  }
 },
 "nbformat": 4,
 "nbformat_minor": 2
}
