{
 "cells": [
  {
   "cell_type": "code",
   "execution_count": 3,
   "metadata": {},
   "outputs": [],
   "source": [
    "import math\n",
    "import numpy as np\n",
    "import matplotlib.pyplot as plt\n",
    "N1 = 0\n",
    "N2 = 0"
   ]
  },
  {
   "cell_type": "code",
   "execution_count": 4,
   "metadata": {},
   "outputs": [],
   "source": [
    "def func1(x):\n",
    "  global N1\n",
    "  N1 = N1 + 1\n",
    "  return np.cos(x)/(x**2)\n",
    "\n",
    "def func1U(x):\n",
    "  return np.cos(x)/(x**2)\n",
    "\n",
    "def func1D1(x):\n",
    "  return (x*np.sin(x) + 2 * np.cos(x))/(x**3)\n",
    "\n",
    "def func2(x):\n",
    "  global N2\n",
    "  N2 = N2 + 1\n",
    "  return x/10 - 2 * np.sin(4*x)\n",
    "\n",
    "def func2U(x):\n",
    "  return x/10 - 2 * np.sin(4*x)\n",
    "\n",
    "def func2D1(x):\n",
    "  return 1/10 - 8*np.cos(4*x)"
   ]
  },
  {
   "cell_type": "code",
   "execution_count": 5,
   "metadata": {},
   "outputs": [],
   "source": [
    "def perebor(start, stop, epsilon, cb):\n",
    "  stepsAmount = int((stop-start)/epsilon)\n",
    "  minFuncValue = cb(start)\n",
    "  minArg = start\n",
    "  for var in np.linspace(start, stop, num=stepsAmount):\n",
    "    eval = cb(var)\n",
    "    if (minFuncValue > eval):\n",
    "      minFuncValue = eval\n",
    "      minArg = var\n",
    "  return (minFuncValue, minArg)"
   ]
  },
  {
   "cell_type": "code",
   "execution_count": 6,
   "metadata": {},
   "outputs": [],
   "source": [
    "# print(perebor(1, 12,1e-6,func1))\n",
    "# print(perebor(0, 4,1e-6,func2))"
   ]
  },
  {
   "cell_type": "code",
   "execution_count": 7,
   "metadata": {},
   "outputs": [
    {
     "data": {
      "text/plain": [
       "[4, 3, 2, 1]"
      ]
     },
     "execution_count": 7,
     "metadata": {},
     "output_type": "execute_result"
    }
   ],
   "source": [
    "sorted([1, 3,2, 4], reverse=True)"
   ]
  },
  {
   "cell_type": "code",
   "execution_count": 10,
   "metadata": {},
   "outputs": [],
   "source": [
    "def lom(start, stop, epsilon, cb, cbU, cbD):\n",
    "  lipsic = max(cbD(np.linspace(start, stop, num=int((stop-start)/1e-3))))\n",
    "  x0 = (cb(start) - cb(stop) + lipsic*(start + stop))/(2*lipsic)\n",
    "  y0 = (cb(start) - cb(stop) + lipsic*(start - stop))/(2*lipsic)\n",
    "  res = ()\n",
    "  xAxis = np.linspace(start, stop, num=200)\n",
    "  yAxis = cb(xAxis)\n",
    "\n",
    "  plt.ion()\n",
    "  plt.plot(xAxis, yAxis)\n",
    "\n",
    "  ps = [(x0, y0)]\n",
    "  prevP = (x0, y0)\n",
    "  plt.plot([start, x0],[getP(start, stop, cbU,lipsic, x0, start), y0])\n",
    "  plt.plot([x0, stop],[y0, getP(start, stop, cbU,lipsic, x0, stop)])\n",
    "  flag = False\n",
    "  while True:\n",
    "    ps = sorted(ps, key=lambda x: x[0], reverse=True)\n",
    "\n",
    "    if flag:\n",
    "      plt.plot([ps[0][0], prevP[0]],[ps[0][1], getP(start, prevP[0], cbU,lipsic, x0, prevP[0])])\n",
    "      plt.plot([prevP[0], ps[1][0]],[getP(prevP[0], stop, cbU,lipsic, x0, prevP[0]), ps[1][1]])\n",
    "\n",
    "\n",
    "    ps = sorted(ps, key=lambda x: x[1], reverse=True)\n",
    "    p = ps.pop()\n",
    "    f = cb(p[0])\n",
    "\n",
    "\n",
    "    delta = 1 / (2 * lipsic)*(f - p[1])\n",
    "    if (2*lipsic*delta <= epsilon):\n",
    "      res = (p[0], f)\n",
    "      break\n",
    "    prevP = p\n",
    "    \n",
    "    # ps.append((p[0] - delta, (f + getP(start, stop, cb, lipsic, x0, p[0]))/2))\n",
    "    # ps.append((p[0] + delta, (f + getP(start, stop, cb, lipsic, x0, p[0]))/2))\n",
    "    ps.append((p[0] - delta, (f + p[0])/2))\n",
    "    ps.append((p[0] + delta, (f + p[0])/2))\n",
    "    # print(ps)\n",
    "    flag = True\n",
    "\n",
    "  return res\n",
    "\n",
    "def getP(start, stop, cb, lipsic, x0, x):\n",
    "  if x <= x0:\n",
    "    return cb(start) - lipsic*(x - start)\n",
    "  else:\n",
    "    return cb(stop) + lipsic*(x - stop)"
   ]
  },
  {
   "cell_type": "code",
   "execution_count": 11,
   "metadata": {},
   "outputs": [
    {
     "data": {
      "text/plain": [
       "(5.238916185319683, 0.018309753738293646)"
      ]
     },
     "execution_count": 11,
     "metadata": {},
     "output_type": "execute_result"
    },
    {
     "data": {
      "image/png": "[encoded data removed]",
      "text/plain": [
       "<Figure size 432x288 with 1 Axes>"
      ]
     },
     "metadata": {
      "needs_background": "light"
     },
     "output_type": "display_data"
    }
   ],
   "source": [
    "lom(1, 12,1e-1,func1, func1U, func1D1)"
   ]
  }
 ],
 "metadata": {
  "kernelspec": {
   "display_name": "Python 3.8.12 ('base')",
   "language": "python",
   "name": "python3"
  },
  "language_info": {
   "codemirror_mode": {
    "name": "ipython",
    "version": 3
   },
   "file_extension": ".py",
   "mimetype": "text/x-python",
   "name": "python",
   "nbconvert_exporter": "python",
   "pygments_lexer": "ipython3",
   "version": "3.8.12"
  },
  "orig_nbformat": 4,
  "vscode": {
   "interpreter": {
    "hash": "6f5583cf1d9466b5c27e75c89cc6b383bed5736d6b16c51c8074d8690011a952"
   }
  }
 },
 "nbformat": 4,
 "nbformat_minor": 2
}
